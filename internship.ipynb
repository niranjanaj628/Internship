{
 "cells": [
  {
   "cell_type": "markdown",
   "id": "e9b5bddc",
   "metadata": {},
   "source": [
    "# Internship - 29/02/24"
   ]
  },
  {
   "cell_type": "code",
   "execution_count": 1,
   "id": "68e8d973",
   "metadata": {},
   "outputs": [
    {
     "name": "stdout",
     "output_type": "stream",
     "text": [
      "enter first number=43\n",
      "enter first number=65\n",
      "sum= 108.0\n"
     ]
    }
   ],
   "source": [
    "#sum of 2 numbers\n",
    "n1=float(input('enter first number='))\n",
    "n2=float(input('enter first number='))\n",
    "print('sum=',n1+n2)"
   ]
  },
  {
   "cell_type": "code",
   "execution_count": 2,
   "id": "1ffe4877",
   "metadata": {},
   "outputs": [
    {
     "name": "stdout",
     "output_type": "stream",
     "text": [
      "enter first number=43\n",
      "enter first number=65\n",
      "greatest number= 65.0\n"
     ]
    }
   ],
   "source": [
    "#max of a number\n",
    "n1=float(input('enter first number='))\n",
    "n2=float(input('enter first number='))\n",
    "print('greatest number=',max(n1,n2))"
   ]
  },
  {
   "cell_type": "code",
   "execution_count": 4,
   "id": "06fafa22",
   "metadata": {},
   "outputs": [
    {
     "name": "stdout",
     "output_type": "stream",
     "text": [
      "enter number =6\n",
      "factorial of 6 = 720\n"
     ]
    }
   ],
   "source": [
    "#factorial\n",
    "n=int(input('enter number ='))\n",
    "fac=1\n",
    "for i in range(2,n+1):\n",
    "    fac*=i\n",
    "print('factorial of',n,'=',fac)"
   ]
  },
  {
   "cell_type": "code",
   "execution_count": 5,
   "id": "95b25e12",
   "metadata": {},
   "outputs": [
    {
     "name": "stdout",
     "output_type": "stream",
     "text": [
      "enter principal amount= 1000\n",
      "enter intreset rate= 10\n",
      "enter time period=1\n",
      "new amount= 11000.0\n"
     ]
    }
   ],
   "source": [
    "#simple interest\n",
    "p=int(input('enter principal amount= '))\n",
    "r=float(input('enter intreset rate= '))\n",
    "t=int(input('enter time period='))\n",
    "a=p*(1+(r*t))\n",
    "print('new amount=',a)"
   ]
  },
  {
   "cell_type": "code",
   "execution_count": 7,
   "id": "79818688",
   "metadata": {},
   "outputs": [
    {
     "name": "stdout",
     "output_type": "stream",
     "text": [
      "enter principal amount= 1000\n",
      "enter intreset rate= 10\n",
      "enter time period=1\n",
      "number of times interest applied per time period=2\n",
      "new amount= 121000.0\n"
     ]
    }
   ],
   "source": [
    "#Compound interest\n",
    "p=int(input('enter principal amount= '))\n",
    "r=float(input('enter intreset rate= '))\n",
    "t=int(input('enter time period='))\n",
    "n=int(input('number of times interest applied per time period='))\n",
    "a=p*((1+(r/t))**(n*t))\n",
    "print('new amount=',a)"
   ]
  },
  {
   "cell_type": "code",
   "execution_count": 25,
   "id": "deb25d50",
   "metadata": {},
   "outputs": [
    {
     "name": "stdout",
     "output_type": "stream",
     "text": [
      "enter number=3\n",
      "yes\n"
     ]
    }
   ],
   "source": [
    "#Armstrong number checking\n",
    "n=int(input('enter number='))\n",
    "ln=len(str(n))\n",
    "sum=0\n",
    "k=n\n",
    "for i in range(ln):\n",
    "    rem=k%10\n",
    "    sum+=rem**ln\n",
    "    k=k//10\n",
    "if sum==n:\n",
    "    print('yes')\n",
    "else:\n",
    "    print('no')"
   ]
  },
  {
   "cell_type": "code",
   "execution_count": 27,
   "id": "ba228c99",
   "metadata": {},
   "outputs": [
    {
     "name": "stdout",
     "output_type": "stream",
     "text": [
      "enter radius of the circle=1\n",
      "area of the circle= 3.14\n"
     ]
    }
   ],
   "source": [
    "#Area of a circle\n",
    "r=float(input('enter radius of the circle='))\n",
    "a=(3.14)*(r**2)\n",
    "print('area of the circle=',a)"
   ]
  },
  {
   "cell_type": "code",
   "execution_count": 4,
   "id": "69e76801",
   "metadata": {},
   "outputs": [
    {
     "name": "stdout",
     "output_type": "stream",
     "text": [
      "enter starting of the interval=3\n",
      "enter starting of the interval=7\n",
      "[3, 5, 7]\n"
     ]
    }
   ],
   "source": [
    "#prime numbers in a given interval\n",
    "def prime(n1,n2):\n",
    "    lt=[]\n",
    "    for i in range(n1, n2+1):\n",
    "        for j in range(2,i):\n",
    "            if i%j==0:\n",
    "                break\n",
    "            else:\n",
    "                lt.append(i)\n",
    "                break\n",
    "       \n",
    "    return lt\n",
    "\n",
    "n1=int(input('enter starting of the interval='))\n",
    "n2=int(input('enter starting of the interval='))\n",
    "a=prime(n1,n2)\n",
    "print(a)"
   ]
  },
  {
   "cell_type": "code",
   "execution_count": 1,
   "id": "19f4457c",
   "metadata": {},
   "outputs": [
    {
     "name": "stdout",
     "output_type": "stream",
     "text": [
      "number=4\n",
      "not prime\n"
     ]
    }
   ],
   "source": [
    "#checking whether the given number is a prime number or not\n",
    "def prime(n):\n",
    "    for i in range(2, n):\n",
    "        if n%i==0:\n",
    "            return False\n",
    "        else:\n",
    "            return True\n",
    "\n",
    "n=int(input('number='))\n",
    "a=prime(n)\n",
    "if a==True:\n",
    "    print(\"prime\")\n",
    "else:\n",
    "    print('not prime')"
   ]
  },
  {
   "cell_type": "code",
   "execution_count": 4,
   "id": "6de84201",
   "metadata": {},
   "outputs": [
    {
     "name": "stdout",
     "output_type": "stream",
     "text": [
      "number=10\n",
      "55\n"
     ]
    }
   ],
   "source": [
    "#fibinocci series\n",
    "def fib(n):\n",
    "    a1=0\n",
    "    a2=1\n",
    "    \n",
    "    if n==0:\n",
    "        return 0\n",
    "    elif n==1 or n==2:\n",
    "        return 1\n",
    "    else:\n",
    "        return fib(n-1)+fib(n-2)\n",
    "               \n",
    "n=int(input('number='))\n",
    "res=fib(n)\n",
    "print(res)"
   ]
  }
 ],
 "metadata": {
  "kernelspec": {
   "display_name": "Python 3 (ipykernel)",
   "language": "python",
   "name": "python3"
  },
  "language_info": {
   "codemirror_mode": {
    "name": "ipython",
    "version": 3
   },
   "file_extension": ".py",
   "mimetype": "text/x-python",
   "name": "python",
   "nbconvert_exporter": "python",
   "pygments_lexer": "ipython3",
   "version": "3.9.12"
  }
 },
 "nbformat": 4,
 "nbformat_minor": 5
}
