{
 "cells": [
  {
   "cell_type": "markdown",
   "id": "08758bd8",
   "metadata": {},
   "source": [
    "## 13-03-2024"
   ]
  },
  {
   "cell_type": "code",
   "execution_count": 19,
   "id": "d162e3bc",
   "metadata": {},
   "outputs": [
    {
     "name": "stdout",
     "output_type": "stream",
     "text": [
      "enter string: madam\n",
      "it is a palindrome\n",
      "number of consonants= 3\n",
      "number of vowels= 2\n"
     ]
    }
   ],
   "source": [
    "'''consider a string and check if it's palindrome or not. if it is a palindrome, print the number of vowels \n",
    "and consonants in it. else print the reverse of the string.'''\n",
    "\n",
    "def palindrome_check(string):\n",
    "    \n",
    "    if string==string[::-1]:\n",
    "        return True\n",
    "    else:\n",
    "        return False\n",
    "    \n",
    "def vowel_consonants(string):\n",
    "    vowel_count=0\n",
    "    consonant_count=0\n",
    "    for i in string:\n",
    "        if i in ['a','e','i','o','u']:\n",
    "            vowel_count+=1\n",
    "        else:\n",
    "            consonant_count+=1\n",
    "       \n",
    "    return vowel_count, consonant_count\n",
    "    \n",
    "string=input('enter string: ')\n",
    "if palindrome_check(string):\n",
    "    print('it is a palindrome')\n",
    "    res=vowel_consonants(string)\n",
    "    print('number of consonants=',res[1])\n",
    "    print('number of vowels=',res[0])\n",
    "else:\n",
    "    print('it is not a palindrome')\n",
    "    print('reverese of the string is:',string[::-1])"
   ]
  },
  {
   "cell_type": "code",
   "execution_count": 2,
   "id": "4205fd09",
   "metadata": {},
   "outputs": [
    {
     "name": "stdout",
     "output_type": "stream",
     "text": [
      "enter a number: 3\n",
      "the given number is prime.\n",
      "sum of digits= 3\n"
     ]
    }
   ],
   "source": [
    "def isprime(num):\n",
    "    for i in range(2,num):\n",
    "        if num%i==0:\n",
    "            return False\n",
    "    return True\n",
    "\n",
    "def getsum(num):\n",
    "    sum_of_number=0\n",
    "    while num!=0:\n",
    "        sum_of_number+=num%10\n",
    "        num=num//10\n",
    "    return sum_of_number\n",
    "\n",
    "def factorial(num):\n",
    "    if num==0 or num==1:\n",
    "        return 1\n",
    "    else:\n",
    "        return num*factorial(num-1)\n",
    "    \n",
    "num=int(input('enter a number: '))\n",
    "\n",
    "if isprime(num):\n",
    "    print('the given number is prime.')\n",
    "    res=getsum(num)\n",
    "    print('sum of digits=',res)\n",
    "else:\n",
    "    print('the given number is not prime.')\n",
    "    print('factorial of the digit=',factorial(num))\n",
    "    "
   ]
  },
  {
   "cell_type": "code",
   "execution_count": 3,
   "id": "95faae3e",
   "metadata": {},
   "outputs": [
    {
     "name": "stdout",
     "output_type": "stream",
     "text": [
      "enter number=153\n",
      "the given number is an armstrong number\n"
     ]
    }
   ],
   "source": [
    "#Armstrong number\n",
    "def isArmstrong(num):\n",
    "    sum_of_number=0\n",
    "    l=len(str(num))\n",
    "    n=num\n",
    "    while n!=0:\n",
    "        sum_of_number+=(n%10)**l\n",
    "        n=n//10\n",
    "    if num==sum_of_number:\n",
    "        return True\n",
    "    else:\n",
    "        return False\n",
    "    \n",
    "num=int(input('enter number='))\n",
    "if isArmstrong(num):\n",
    "    print('the given number is an armstrong number')\n",
    "else:\n",
    "    print('the given number is not an armstrong number')"
   ]
  },
  {
   "cell_type": "code",
   "execution_count": 4,
   "id": "5008f78b",
   "metadata": {},
   "outputs": [
    {
     "name": "stdout",
     "output_type": "stream",
     "text": [
      "enter number=542367\n",
      "542367  is not a perfect number\n"
     ]
    }
   ],
   "source": [
    "#Perfect number\n",
    "def isPerfect(num):\n",
    "    factors=[]\n",
    "    for i in range(1,num):\n",
    "        if num%i==0:\n",
    "            factors.append(i)\n",
    "        else:\n",
    "            continue\n",
    "    \n",
    "    sum_of_factors=0\n",
    "    for i in factors:\n",
    "        sum_of_factors+=i\n",
    "    \n",
    "    if sum_of_factors==num:\n",
    "        return True\n",
    "    else:\n",
    "        return False\n",
    "    \n",
    "num=int(input('enter number='))\n",
    "if isPerfect(num):\n",
    "    print(num,' is a perfect number')\n",
    "else:\n",
    "    print(num,' is not a perfect number')"
   ]
  },
  {
   "cell_type": "code",
   "execution_count": 5,
   "id": "bf28c471",
   "metadata": {},
   "outputs": [
    {
     "name": "stdout",
     "output_type": "stream",
     "text": [
      "enter a number= 3\n",
      "factorial of  3  is= 6\n"
     ]
    }
   ],
   "source": [
    "#Factorial of a number\n",
    "\n",
    "def factorial(num):\n",
    "    if num==0 or num==1:\n",
    "        return 1\n",
    "    else:\n",
    "        return  num*factorial(num-1)\n",
    "    \n",
    "num=int(input('enter a number= '))\n",
    "print('factorial of ',num,' is=', factorial(num))"
   ]
  },
  {
   "cell_type": "code",
   "execution_count": 13,
   "id": "be7ac0a8",
   "metadata": {},
   "outputs": [
    {
     "name": "stdout",
     "output_type": "stream",
     "text": [
      "number of terms=5\n",
      "0,1,1,2,3,"
     ]
    }
   ],
   "source": [
    "#Fibonacci sequence\n",
    "def fib(n):\n",
    "    a1=0\n",
    "    a2=1\n",
    "    print(a1,a2,end=',',sep=',')\n",
    "    for i in range(2,n):\n",
    "        nth=a1+a2\n",
    "        print(nth,end=\",\")\n",
    "        a1=a2\n",
    "        a2=nth\n",
    "               \n",
    "n=int(input('number of terms='))\n",
    "res=fib(n)"
   ]
  },
  {
   "cell_type": "code",
   "execution_count": 6,
   "id": "4048203a",
   "metadata": {},
   "outputs": [
    {
     "name": "stdout",
     "output_type": "stream",
     "text": [
      "Enter number of rows in matrix A:1\n",
      "Enter number of columns in matrix A:2\n",
      "Enter values of matrix row wise:\n",
      "3\n",
      "2\n",
      "Enter number of rows in matrix B:2\n",
      "Enter number of columns in matrix B:1\n",
      "Enter values of matrix row wise:\n",
      "2\n",
      "4\n",
      "Matrix A: [[3, 2]]\n",
      "Matrix B: [[2], [4]]\n",
      "Matrix multiplication of given matrices A and B is [[14]]\n"
     ]
    }
   ],
   "source": [
    "# Matrix multiplication\n",
    "def matrix_multiplication(A,B):\n",
    "    res=[[0 for j in range(len(B[0]))] for i in range(len(A))]\n",
    "    for i in range(len(A)):\n",
    "        for j in range(len(B[0])):\n",
    "            for k in range(len(B)):\n",
    "                res[i][j]+=A[i][k]*B[k][j]\n",
    "    return res\n",
    "\n",
    "#taking matrix A from user\n",
    "no_of_rows_A=int(input(\"Enter number of rows in matrix A:\"))\n",
    "no_of_columns_A=int(input(\"Enter number of columns in matrix A:\"))\n",
    "print(\"Enter values of matrix row wise:\")\n",
    "A = [[int(input()) for x in range (no_of_columns_A)] for y in range(no_of_rows_A)]\n",
    "\n",
    "#taking matrix B from user\n",
    "no_of_rows_B=int(input(\"Enter number of rows in matrix B:\"))\n",
    "no_of_columns_B=int(input(\"Enter number of columns in matrix B:\"))\n",
    "print(\"Enter values of matrix row wise:\")\n",
    "B = [[int(input()) for x in range (no_of_columns_B)] for y in range(no_of_rows_B)]\n",
    "\n",
    "#main\n",
    "if(no_of_columns_A==no_of_rows_B):\n",
    "    print(\"Matrix A:\",A)\n",
    "    print(\"Matrix B:\",B)\n",
    "    print(\"Matrix multiplication of given matrices A and B is\",matrix_multiplication(A,B))\n",
    "else:\n",
    "    print(\"Invalid matrix dimensions. Please enter the matrices such that no.of columns in first matrix is equal to no.of rows in second matrix\")"
   ]
  },
  {
   "cell_type": "code",
   "execution_count": 7,
   "id": "3dd82d2f",
   "metadata": {},
   "outputs": [
    {
     "name": "stdout",
     "output_type": "stream",
     "text": [
      "Enter the number to search:65\n",
      "65 is present at the index 3 in the given list\n"
     ]
    }
   ],
   "source": [
    "#Linear search\n",
    "def linear_search(list1,num):\n",
    "    for i in list1:\n",
    "        if(i==num):\n",
    "            return list1.index(i)\n",
    "    return -1\n",
    "\n",
    "#main\n",
    "list1=[1,20,3,65,85,93]\n",
    "num=int(input(\"Enter the number to search:\"))\n",
    "if(linear_search(list1,num)!=-1):\n",
    "    print(num,\"is present at the index\",linear_search(list1,num),\"in the given list\") \n",
    "else:\n",
    "     print(num,\"is not present in the given list\")"
   ]
  },
  {
   "cell_type": "code",
   "execution_count": 9,
   "id": "5e130120",
   "metadata": {},
   "outputs": [
    {
     "name": "stdout",
     "output_type": "stream",
     "text": [
      "Enter a number to search:34\n",
      "Element is not present in list1\n"
     ]
    }
   ],
   "source": [
    "#Binary search\n",
    "def binary_search(list1,n):\n",
    "    low=0\n",
    "    high=len(list1)-1\n",
    "    mid=0\n",
    "    while low<=high:\n",
    "        mid=(low+high)//2\n",
    "        if list1[mid]==n:\n",
    "            return mid\n",
    "        elif list1[mid]>n:\n",
    "            high=mid-1\n",
    "        else:\n",
    "            low=mid+1\n",
    "    return -1\n",
    "\n",
    "#main\n",
    "list1=[6,12,17,23,38,45,77,84,90]\n",
    "num=int(input(\"Enter a number to search:\"))\n",
    "res= binary_search(list1,num)\n",
    "if res!=-1:\n",
    "    print(\"Element is pressent at index\",res)\n",
    "else:\n",
    "    print(\"Element is not present in list1\")"
   ]
  },
  {
   "cell_type": "code",
   "execution_count": 12,
   "id": "76b7bb28",
   "metadata": {},
   "outputs": [
    {
     "name": "stdout",
     "output_type": "stream",
     "text": [
      "Original list: [34, 65, 23, 4]\n",
      "Sorted list: [4, 23, 34, 65]\n"
     ]
    }
   ],
   "source": [
    "# sorting of list\n",
    "def sorted_list(list1):\n",
    "    for i in range(len(list1)):\n",
    "        for j in range(i+1,len(list1)):\n",
    "            if(list1[i]>=list1[j]):\n",
    "                list1[i],list1[j]=list1[j],list1[i]\n",
    "    return list1\n",
    "list1=[34,65,23,4]\n",
    "print(\"Original list:\",list1)\n",
    "print(\"Sorted list:\",sorted_list(list1))"
   ]
  },
  {
   "cell_type": "code",
   "execution_count": 13,
   "id": "e4093884",
   "metadata": {},
   "outputs": [
    {
     "name": "stdout",
     "output_type": "stream",
     "text": [
      "Enter year:2012\n",
      "2012 is leap year\n"
     ]
    }
   ],
   "source": [
    "#Leap year\n",
    "def is_LeapYear(y):\n",
    "    if(y%100==0 and y%400==0):\n",
    "        return 1\n",
    "    elif(y%100!=0 and y%4==0):\n",
    "        return 1\n",
    "    else:\n",
    "        return -1\n",
    "\n",
    "#main \n",
    "year=int(input(\"Enter year:\"))\n",
    "if(is_LeapYear(year)==1):\n",
    "    print(year,\"is leap year\")\n",
    "else:\n",
    "    print(year,\"is not leap year\")\n"
   ]
  },
  {
   "cell_type": "code",
   "execution_count": 14,
   "id": "600522e8",
   "metadata": {},
   "outputs": [
    {
     "name": "stdout",
     "output_type": "stream",
     "text": [
      "Enter a number:546\n",
      "546 is not a happy number\n"
     ]
    }
   ],
   "source": [
    "#Hppy number\n",
    "def is_happy(n):\n",
    "    if(n==1 or n==7):\n",
    "        return True\n",
    "    else:\n",
    "        sum_of_digits=n\n",
    "        x=n\n",
    "        while sum_of_digits>9:\n",
    "            sum_of_digits=0\n",
    "            while(x!=0):\n",
    "                digit=x%10\n",
    "                sum_of_digits +=digit**2\n",
    "                x=x//10\n",
    "            if sum_of_digits==1:\n",
    "                return True\n",
    "            x=sum_of_digits\n",
    "        if sum_of_digits==7:\n",
    "            return True\n",
    "        return False\n",
    "\n",
    "#main\n",
    "num=int(input(\"Enter a number:\"))    \n",
    "if(is_happy(num)==True):\n",
    "    print(num,\"is a happy number\")\n",
    "else:\n",
    "    print(num,\"is not a happy number\")\n"
   ]
  },
  {
   "cell_type": "code",
   "execution_count": 23,
   "id": "a4fded00",
   "metadata": {},
   "outputs": [
    {
     "name": "stdout",
     "output_type": "stream",
     "text": [
      "5\n"
     ]
    }
   ],
   "source": [
    "#GCD\n",
    "\n",
    "def gcd(n1,n2):\n",
    "    n1_factors=[]\n",
    "    n2_factors=[]\n",
    "    common_factors=[]\n",
    "    for i in range(2,n1):\n",
    "        if(n1%i==0):\n",
    "            n1_factors.append(i)\n",
    "    for i in range(2,n2):\n",
    "        if(n2%i==0):\n",
    "            n2_factors.append(i)\n",
    "    for i in n1_factors:\n",
    "        for j in n2_factors:\n",
    "            if(i==j):\n",
    "                common_factors.append(i)\n",
    "    return max(common_factors)\n",
    "print(gcd(15,30))\n"
   ]
  },
  {
   "cell_type": "code",
   "execution_count": 24,
   "id": "df381cb7",
   "metadata": {},
   "outputs": [
    {
     "name": "stdout",
     "output_type": "stream",
     "text": [
      "224769024\n"
     ]
    }
   ],
   "source": [
    "#LCM\n",
    "def lcm(n1,n2):\n",
    "    n1_factors=[]\n",
    "    n2_factors=[]\n",
    "    for i in range(2,n1):\n",
    "        if(n1%i==0):\n",
    "            n1_factors.append(i)\n",
    "    for i in range(2,n2):\n",
    "        if(n2%i==0):\n",
    "            n2_factors.append(i)\n",
    "    s1=set(n1_factors)\n",
    "    s2=set(n2_factors)\n",
    "    res=s1.union(s2)\n",
    "    m=1\n",
    "    for i in res:\n",
    "        m=m*i\n",
    "    return m\n",
    "print(lcm(232,12))"
   ]
  },
  {
   "cell_type": "code",
   "execution_count": 16,
   "id": "76d9ae42",
   "metadata": {},
   "outputs": [
    {
     "name": "stdout",
     "output_type": "stream",
     "text": [
      "Duplicates present in the given list: [2, 23, 64]\n"
     ]
    }
   ],
   "source": [
    "#Find duplicates of a list\n",
    "def list_duplicates(l):\n",
    "    duplicates_of_list=[]\n",
    "    for i in range(len(l)):\n",
    "        for j in range(i+1,len(l)):\n",
    "            if(l[i]==l[j]):\n",
    "                duplicates_of_list.append(l[i])\n",
    "    return duplicates_of_list\n",
    "\n",
    "list1=[34,2,4,23,64,2,23,8,64]\n",
    "print(\"Duplicates present in the given list:\",list_duplicates(list1))"
   ]
  },
  {
   "cell_type": "code",
   "execution_count": 18,
   "id": "7800e26d",
   "metadata": {},
   "outputs": [
    {
     "name": "stdout",
     "output_type": "stream",
     "text": [
      "Original list: [34, 2, 4, 23, 64, 2, 23, 8, 64]\n",
      "List after removing duplicates: [34, 4, 2, 23, 8, 64]\n"
     ]
    }
   ],
   "source": [
    "# Removing duplicates from the given list\n",
    "def element_count(l,ele):\n",
    "    count=0\n",
    "    for i in l:\n",
    "        if(i==ele):\n",
    "            count+=1\n",
    "    return count\n",
    "        \n",
    "def remove_duplicates(l):\n",
    "    for i in l:\n",
    "        if(element_count(l,i)>1):\n",
    "            l.remove(i)\n",
    "    return l\n",
    "\n",
    "#main\n",
    "list1=[34,2,4,23,64,2,23,8,64]\n",
    "print(\"Original list:\",list1)\n",
    "print(\"List after removing duplicates:\",remove_duplicates(list1))"
   ]
  },
  {
   "cell_type": "code",
   "execution_count": 26,
   "id": "d70b5198",
   "metadata": {},
   "outputs": [
    {
     "name": "stdout",
     "output_type": "stream",
     "text": [
      "Enter number of rows in matrix A:2\n",
      "Enter number of columns in matrix A:3\n",
      "Enter values of matrix row wise:\n",
      "2\n",
      "45\n",
      "1\n",
      "4\n",
      "32\n",
      "54\n",
      "Given matrix: [[2, 45, 1], [4, 32, 54]]\n",
      "Transpose of given matrix: [[2, 4], [45, 32], [1, 54]]\n"
     ]
    }
   ],
   "source": [
    "# Transpose of matrix\n",
    "def transpose(A):\n",
    "    transposed_matrix=[[0 for j in range(len(A))] for i in range(len(A[0]))]\n",
    "    for i in range(len(A[0])):\n",
    "        for j in range(len(A)):\n",
    "            transposed_matrix[i][j]=A[j][i]\n",
    "    return transposed_matrix\n",
    "\n",
    "#taking matrix A from user\n",
    "no_of_rows_A=int(input(\"Enter number of rows in matrix A:\"))\n",
    "no_of_columns_A=int(input(\"Enter number of columns in matrix A:\"))\n",
    "print(\"Enter values of matrix row wise:\")\n",
    "A = [[int(input()) for x in range (no_of_columns_A)] for y in range(no_of_rows_A)]\n",
    "print(\"Given matrix:\",A)\n",
    "print(\"Transpose of given matrix:\",transpose(A))"
   ]
  }
 ],
 "metadata": {
  "kernelspec": {
   "display_name": "Python 3 (ipykernel)",
   "language": "python",
   "name": "python3"
  },
  "language_info": {
   "codemirror_mode": {
    "name": "ipython",
    "version": 3
   },
   "file_extension": ".py",
   "mimetype": "text/x-python",
   "name": "python",
   "nbconvert_exporter": "python",
   "pygments_lexer": "ipython3",
   "version": "3.9.12"
  }
 },
 "nbformat": 4,
 "nbformat_minor": 5
}
