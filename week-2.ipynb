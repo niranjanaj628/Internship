{
 "cells": [
  {
   "cell_type": "markdown",
   "id": "dad94586",
   "metadata": {},
   "source": [
    "<div style=\"background-color: #123456; padding: 20px; border-radius: 10px; box-shadow: 5px 5px 10px #888888;\">\n",
    "  <h1 style=\"color: white; font-size: 30px; font-weight: bold; text-align: center; text-shadow: 2px 2px 4px #000000;\">Python Programs : Niranjana J   22BTRAD027\n",
    "</h1>\n",
    "</div>"
   ]
  },
  {
   "cell_type": "code",
   "execution_count": 9,
   "id": "4a23a2ec",
   "metadata": {},
   "outputs": [
    {
     "name": "stdout",
     "output_type": "stream",
     "text": [
      "(2, 5, 3, 3, 4)\n"
     ]
    }
   ],
   "source": [
    "#write a python program to flatten tuple of list to tuple\n",
    "a=([2,5,3],[3],[4])\n",
    "b=()\n",
    "for i in a:\n",
    "    b+=tuple(i)\n",
    "print(b)"
   ]
  },
  {
   "cell_type": "code",
   "execution_count": 10,
   "id": "546a4b18",
   "metadata": {},
   "outputs": [
    {
     "name": "stdout",
     "output_type": "stream",
     "text": [
      "intial set= {65, 23, 54, 87}\n",
      "set converted into tuple= (65, 23, 54, 87)\n",
      "intial tuple= (34, 54, 32, 665, 54)\n",
      "tuple converted into set= {32, 665, 34, 54}\n"
     ]
    }
   ],
   "source": [
    "#python program to convert set into tuple and tuple into set\n",
    "def set_into_tuple(s):\n",
    "    return(tuple(s))\n",
    "def tuple_into_set(t):\n",
    "    return set(t)\n",
    "\n",
    "s={23,65,23,54,87}\n",
    "print('intial set=',s)\n",
    "print('set converted into tuple=',set_into_tuple(s))\n",
    "t=(34,54,32,665,54)\n",
    "print('intial tuple=',t)\n",
    "print('tuple converted into set=',tuple_into_set(t))"
   ]
  },
  {
   "cell_type": "code",
   "execution_count": 5,
   "id": "43709b96",
   "metadata": {},
   "outputs": [
    {
     "name": "stdout",
     "output_type": "stream",
     "text": [
      "intial list= [{'Name': ['amy', 'Kia'], 'age': [20, 21], 'grade': ['A', 'A']}, {'Name': ['Mia', 'Dune'], 'age': [22, 21], 'grade': ['B', 'B']}]\n",
      "list of dictionaries converted into tuple= [('Name', 'amy', 'Kia', 'Mia', 'Dune'), ('age', 20, 21, 22, 21), ('grade', 'A', 'A', 'B', 'B')]\n"
     ]
    }
   ],
   "source": [
    "#convert list of dictionary to tuple list\n",
    "def lt_to_tuplelt(lt):\n",
    "    res=[]\n",
    "    d={}\n",
    "    for i in lt:\n",
    "        for k in i.keys():\n",
    "            if k in d:\n",
    "                d[k]+=i[k]\n",
    "            else:\n",
    "                d[k]=i[k]\n",
    "    for k in d.keys():\n",
    "        res.append(tuple([k] + d[k]))    \n",
    "    return res\n",
    "a=[{'Name':['amy','Kia'],'age':[20,21],'grade':['A','A']},{'Name':['Mia','Dune'],'age':[22,21],'grade':['B','B']}]\n",
    "print('intial list=',a)\n",
    "print('list of dictionaries converted into tuple=',lt_to_tuplelt(a))"
   ]
  },
  {
   "cell_type": "code",
   "execution_count": 66,
   "id": "d2ca262d",
   "metadata": {},
   "outputs": [
    {
     "name": "stdout",
     "output_type": "stream",
     "text": [
      "enter the nth  element=1\n",
      "[(3, 45, 44), (34, 67, 6), (5, 56, 87)]\n"
     ]
    }
   ],
   "source": [
    "#sort tuple list by nth elemenet of tuple\n",
    "lt=[(3,45,44),(34,67,6),(5,56,87)]\n",
    "st_lt=[]\n",
    "sample=[]\n",
    "sample_ix=[]\n",
    "n=int(input('enter the nth  element='))\n",
    "flag=True\n",
    "while flag:\n",
    "    flag= False\n",
    "    for i in range(len(lt)-1):\n",
    "        for j in range(i+1,len(lt)):\n",
    "            if lt [i][n] < test_list [j][n]:\n",
    "                    # swap the elements\n",
    "                    lt [i], lt [j] = lt[j],lt[i]\n",
    "                    flag=True\n",
    "'''a=lt[i][n]\n",
    "    sample.append(a)\n",
    "    sample_ix.append(lt.index(a))\n",
    "    sample.sort()'''\n",
    "    \n",
    "\n",
    "print(lt)"
   ]
  },
  {
   "cell_type": "code",
   "execution_count": 85,
   "id": "eb8e93f3",
   "metadata": {},
   "outputs": [
    {
     "name": "stdout",
     "output_type": "stream",
     "text": [
      "The original list is : [(3, 45, 44), (34, 67, 6), (5, 56, 87)]\n",
      "enter nth element=0\n",
      "List after sorting tuple by Nth index sort :  [(3, 45, 44), (5, 56, 87), (34, 67, 6)]\n"
     ]
    }
   ],
   "source": [
    "#sort tuple list by nth elemenet of tuple\n",
    "from operator import itemgetter\n",
    " \n",
    "lt=[(3,45,44),(34,67,6),(5,56,87)]\n",
    " \n",
    "print(\"The original list is : \" + str(lt))\n",
    "n=int(input('enter nth element='))\n",
    "\n",
    "lt.sort(key = itemgetter(n))\n",
    " \n",
    "print(\"List after sorting tuple by Nth index sort : \" ,lt)"
   ]
  },
  {
   "cell_type": "code",
   "execution_count": 37,
   "id": "0db4d303",
   "metadata": {},
   "outputs": [
    {
     "name": "stdout",
     "output_type": "stream",
     "text": [
      "[3, 'not present', 'not present', 2]\n"
     ]
    }
   ],
   "source": [
    "#program to find tuple indices from other tuple list\n",
    "a1=[(344, 5), (437, 36), (132, 320), (23, 564)]\n",
    "a2=[(23, 564), (854, 239), (47, 346), (132, 320)]\n",
    "l=[]\n",
    "for i in a2:\n",
    "    if i in a1:\n",
    "        idx=a1.index(i)\n",
    "        l.append(idx)\n",
    "    else:\n",
    "        l.append('not present')\n",
    "print(l)"
   ]
  },
  {
   "cell_type": "code",
   "execution_count": 1,
   "id": "8295357d",
   "metadata": {},
   "outputs": [
    {
     "name": "stdout",
     "output_type": "stream",
     "text": [
      "intial list=  [{'usn': [1, 2, 3]}, {'age': [30, 22, 34]}, {'marks': [32, 65, 31]}]\n",
      "New list =  [{'usn': 1, 'age': 30, 'marks': 32}, {'usn': 2, 'age': 22, 'marks': 65}, {'usn': 3, 'age': 34, 'marks': 31}]\n"
     ]
    }
   ],
   "source": [
    "#convert dictionary value list to dictionary list \n",
    "lt = [{'usn' : [1, 2, 3]}, {'age' : [30, 22, 34]},{'marks':[32,65,31]}]\n",
    "\n",
    "print(\"intial list= \" , lt)\n",
    "\n",
    "res =[{} for i in range(len(lt))]\n",
    "i = 0\n",
    "for ele in lt:\n",
    "    for key, val in ele.items(): \n",
    "        for j in val:\n",
    "            res[i][key] = j\n",
    "            i += 1\n",
    "        i = 0\n",
    "\n",
    "# printing result \n",
    "print(\"New list = \" , res)"
   ]
  },
  {
   "cell_type": "code",
   "execution_count": 8,
   "id": "647b8558",
   "metadata": {
    "scrolled": true
   },
   "outputs": [
    {
     "name": "stdout",
     "output_type": "stream",
     "text": [
      "original tuple: (4, 3, 2, 2, -1, 18)\n",
      "product of tuple= -864\n"
     ]
    }
   ],
   "source": [
    "#}Write a Python program to calculate the product, multiplying all the numbers in a given tuple.\n",
    "t=(4, 3, 2, 2, -1, 18)\n",
    "product=1\n",
    "for i in t:\n",
    "    product*=i\n",
    "print('original tuple:',t)\n",
    "print('product of tuple=',product)"
   ]
  },
  {
   "cell_type": "code",
   "execution_count": 6,
   "id": "6af80fd2",
   "metadata": {},
   "outputs": [
    {
     "name": "stdout",
     "output_type": "stream",
     "text": [
      "original tuple: ((10, 10, 10, 12), (30, 45, 56, 45), (81, 80, 39, 32), (1, 2, 3, 4))\n",
      "average value of the numbers in a given tuple of tuples [30.5, 34.25, 27.0, 23.25]\n"
     ]
    }
   ],
   "source": [
    "#Write a Python program to calculate the average value of the numbers in a given tuple of tuples.\n",
    "t=((10, 10, 10, 12), (30, 45, 56,45), (81, 80, 39, 32), (1, 2, 3, 4))\n",
    "l=len(t)\n",
    "avg=[]\n",
    "s=0\n",
    "for i in range(l):\n",
    "    for j in t:\n",
    "        s+=j[i]\n",
    "    avg.append(s/l)\n",
    "    s=0\n",
    "\n",
    "print('original tuple:',t)\n",
    "print('average value of the numbers in a given tuple of tuples',avg) "
   ]
  }
 ],
 "metadata": {
  "kernelspec": {
   "display_name": "Python 3 (ipykernel)",
   "language": "python",
   "name": "python3"
  },
  "language_info": {
   "codemirror_mode": {
    "name": "ipython",
    "version": 3
   },
   "file_extension": ".py",
   "mimetype": "text/x-python",
   "name": "python",
   "nbconvert_exporter": "python",
   "pygments_lexer": "ipython3",
   "version": "3.9.12"
  }
 },
 "nbformat": 4,
 "nbformat_minor": 5
}
