{
 "cells": [
  {
   "cell_type": "markdown",
   "id": "28adb70c",
   "metadata": {},
   "source": [
    "<div style=\"background-color: #123456; padding: 20px; border-radius: 10px; box-shadow: 5px 5px 10px #888888;\">\n",
    "  <h1 style=\"color: white; font-size: 30px; font-weight: bold; text-align: center; text-shadow: 2px 2px 4px #000000;\">Python Data Structures : Niranjana J   22BTRAD027\n",
    "</h1>\n",
    "</div>"
   ]
  },
  {
   "cell_type": "code",
   "execution_count": 9,
   "id": "4a23a2ec",
   "metadata": {},
   "outputs": [
    {
     "name": "stdout",
     "output_type": "stream",
     "text": [
      "(2, 5, 3, 3, 4)\n"
     ]
    }
   ],
   "source": [
    "#write a python program to flatten tuple of list to tuple\n",
    "a=([2,5,3],[3],[4])\n",
    "b=()\n",
    "for i in a:\n",
    "    b+=tuple(i)\n",
    "print(b)"
   ]
  },
  {
   "cell_type": "code",
   "execution_count": 10,
   "id": "546a4b18",
   "metadata": {},
   "outputs": [
    {
     "name": "stdout",
     "output_type": "stream",
     "text": [
      "intial set= {65, 23, 54, 87}\n",
      "set converted into tuple= (65, 23, 54, 87)\n",
      "intial tuple= (34, 54, 32, 665, 54)\n",
      "tuple converted into set= {32, 665, 34, 54}\n"
     ]
    }
   ],
   "source": [
    "#python program to convert set into tuple and tuple into set\n",
    "def set_into_tuple(s):\n",
    "    return(tuple(s))\n",
    "def tuple_into_set(t):\n",
    "    return set(t)\n",
    "\n",
    "s={23,65,23,54,87}\n",
    "print('intial set=',s)\n",
    "print('set converted into tuple=',set_into_tuple(s))\n",
    "t=(34,54,32,665,54)\n",
    "print('intial tuple=',t)\n",
    "print('tuple converted into set=',tuple_into_set(t))"
   ]
  },
  {
   "cell_type": "code",
   "execution_count": 5,
   "id": "43709b96",
   "metadata": {},
   "outputs": [
    {
     "name": "stdout",
     "output_type": "stream",
     "text": [
      "intial list= [{'Name': ['amy', 'Kia'], 'age': [20, 21], 'grade': ['A', 'A']}, {'Name': ['Mia', 'Dune'], 'age': [22, 21], 'grade': ['B', 'B']}]\n",
      "list of dictionaries converted into tuple= [('Name', 'amy', 'Kia', 'Mia', 'Dune'), ('age', 20, 21, 22, 21), ('grade', 'A', 'A', 'B', 'B')]\n"
     ]
    }
   ],
   "source": [
    "#convert list of dictionary to tuple list\n",
    "def lt_to_tuplelt(lt):\n",
    "    res=[]\n",
    "    d={}\n",
    "    for i in lt:\n",
    "        for k in i.keys():\n",
    "            if k in d:\n",
    "                d[k]+=i[k]\n",
    "            else:\n",
    "                d[k]=i[k]\n",
    "    for k in d.keys():\n",
    "        res.append(tuple([k] + d[k]))    \n",
    "    return res\n",
    "a=[{'Name':['amy','Kia'],'age':[20,21],'grade':['A','A']},{'Name':['Mia','Dune'],'age':[22,21],'grade':['B','B']}]\n",
    "print('intial list=',a)\n",
    "print('list of dictionaries converted into tuple=',lt_to_tuplelt(a))"
   ]
  },
  {
   "cell_type": "code",
   "execution_count": 66,
   "id": "d2ca262d",
   "metadata": {},
   "outputs": [
    {
     "name": "stdout",
     "output_type": "stream",
     "text": [
      "enter the nth  element=1\n",
      "[(3, 45, 44), (34, 67, 6), (5, 56, 87)]\n"
     ]
    }
   ],
   "source": [
    "#sort tuple list by nth elemenet of tuple\n",
    "lt=[(3,45,44),(34,67,6),(5,56,87)]\n",
    "st_lt=[]\n",
    "sample=[]\n",
    "sample_ix=[]\n",
    "n=int(input('enter the nth  element='))\n",
    "flag=True\n",
    "while flag:\n",
    "    flag= False\n",
    "    for i in range(len(lt)-1):\n",
    "        for j in range(i+1,len(lt)):\n",
    "            if lt [i][n] < test_list [j][n]:\n",
    "                    # swap the elements\n",
    "                    lt [i], lt [j] = lt[j],lt[i]\n",
    "                    flag=True\n",
    "'''a=lt[i][n]\n",
    "    sample.append(a)\n",
    "    sample_ix.append(lt.index(a))\n",
    "    sample.sort()'''\n",
    "    \n",
    "\n",
    "print(lt)"
   ]
  },
  {
   "cell_type": "code",
   "execution_count": 85,
   "id": "eb8e93f3",
   "metadata": {},
   "outputs": [
    {
     "name": "stdout",
     "output_type": "stream",
     "text": [
      "The original list is : [(3, 45, 44), (34, 67, 6), (5, 56, 87)]\n",
      "enter nth element=0\n",
      "List after sorting tuple by Nth index sort :  [(3, 45, 44), (5, 56, 87), (34, 67, 6)]\n"
     ]
    }
   ],
   "source": [
    "#sort tuple list by nth elemenet of tuple\n",
    "from operator import itemgetter\n",
    " \n",
    "lt=[(3,45,44),(34,67,6),(5,56,87)]\n",
    " \n",
    "print(\"The original list is : \" + str(lt))\n",
    "n=int(input('enter nth element='))\n",
    "\n",
    "lt.sort(key = itemgetter(n))\n",
    " \n",
    "print(\"List after sorting tuple by Nth index sort : \" ,lt)"
   ]
  },
  {
   "cell_type": "code",
   "execution_count": 37,
   "id": "0db4d303",
   "metadata": {},
   "outputs": [
    {
     "name": "stdout",
     "output_type": "stream",
     "text": [
      "[3, 'not present', 'not present', 2]\n"
     ]
    }
   ],
   "source": [
    "#program to find tuple indices from other tuple list\n",
    "a1=[(344, 5), (437, 36), (132, 320), (23, 564)]\n",
    "a2=[(23, 564), (854, 239), (47, 346), (132, 320)]\n",
    "l=[]\n",
    "for i in a2:\n",
    "    if i in a1:\n",
    "        idx=a1.index(i)\n",
    "        l.append(idx)\n",
    "    else:\n",
    "        l.append('not present')\n",
    "print(l)"
   ]
  },
  {
   "cell_type": "code",
   "execution_count": 13,
   "id": "8295357d",
   "metadata": {},
   "outputs": [
    {
     "name": "stdout",
     "output_type": "stream",
     "text": [
      "intial list=  [{'usn': [1, 2, 3]}, {'age': [30, 22, 34]}, {'marks': [32, 65, 31]}]\n",
      "New list =  [{'usn': 1, 'age': 30, 'marks': 32}, {'usn': 2, 'age': 22, 'marks': 65}, {'usn': 3, 'age': 34, 'marks': 31}]\n"
     ]
    }
   ],
   "source": [
    "#convert dictionary value list to dictionary list \n",
    "lt = [{'usn' : [1, 2, 3]}, {'age' : [30, 22, 34]},{'marks':[32,65,31]}]\n",
    "\n",
    "print(\"intial list= \" , lt)\n",
    "\n",
    "res =[{} for i in range(len(lt))]\n",
    "i = 0\n",
    "for ele in lt:\n",
    "    for key, val in ele.items(): \n",
    "        for j in val:\n",
    "            res[i][key] = j\n",
    "                i += 1\n",
    "            i = 0\n",
    "\n",
    "# printing result \n",
    "print(\"New list = \" , res)\n"
   ]
  },
  {
   "cell_type": "code",
   "execution_count": 10,
   "id": "a024e171",
   "metadata": {},
   "outputs": [
    {
     "ename": "TypeError",
     "evalue": "can only concatenate str (not \"list\") to str",
     "output_type": "error",
     "traceback": [
      "\u001b[1;31m---------------------------------------------------------------------------\u001b[0m",
      "\u001b[1;31mTypeError\u001b[0m                                 Traceback (most recent call last)",
      "Input \u001b[1;32mIn [10]\u001b[0m, in \u001b[0;36m<cell line: 8>\u001b[1;34m()\u001b[0m\n\u001b[0;32m      1\u001b[0m \u001b[38;5;66;03m# Python3 code to demonstrate working of \u001b[39;00m\n\u001b[0;32m      2\u001b[0m \u001b[38;5;66;03m# Convert Dictionary Value list to Dictionary List\u001b[39;00m\n\u001b[0;32m      3\u001b[0m \u001b[38;5;66;03m# Using loop\u001b[39;00m\n\u001b[0;32m      4\u001b[0m \n\u001b[0;32m      5\u001b[0m \u001b[38;5;66;03m# initializing list\u001b[39;00m\n\u001b[0;32m      6\u001b[0m lt \u001b[38;5;241m=\u001b[39m [{\u001b[38;5;124m'\u001b[39m\u001b[38;5;124musn\u001b[39m\u001b[38;5;124m'\u001b[39m : [\u001b[38;5;241m1\u001b[39m, \u001b[38;5;241m2\u001b[39m, \u001b[38;5;241m3\u001b[39m]}, {\u001b[38;5;124m'\u001b[39m\u001b[38;5;124mage\u001b[39m\u001b[38;5;124m'\u001b[39m : [\u001b[38;5;241m30\u001b[39m, \u001b[38;5;241m22\u001b[39m, \u001b[38;5;241m34\u001b[39m]}]\n\u001b[1;32m----> 8\u001b[0m \u001b[38;5;28mprint\u001b[39m(\u001b[38;5;124;43m\"\u001b[39;49m\u001b[38;5;124;43mintial list= \u001b[39;49m\u001b[38;5;124;43m\"\u001b[39;49m\u001b[43m \u001b[49m\u001b[38;5;241;43m+\u001b[39;49m\u001b[43m \u001b[49m\u001b[43mlt\u001b[49m)\n\u001b[0;32m     10\u001b[0m res \u001b[38;5;241m=\u001b[39m[{} \u001b[38;5;28;01mfor\u001b[39;00m i \u001b[38;5;129;01min\u001b[39;00m \u001b[38;5;28mrange\u001b[39m(\u001b[38;5;28mlen\u001b[39m(test_list))]\n\u001b[0;32m     11\u001b[0m i \u001b[38;5;241m=\u001b[39m \u001b[38;5;241m0\u001b[39m\n",
      "\u001b[1;31mTypeError\u001b[0m: can only concatenate str (not \"list\") to str"
     ]
    }
   ],
   "source": [
    "# Python3 code to demonstrate working of \n",
    "# Convert Dictionary Value list to Dictionary List\n",
    "# Using loop\n",
    "\n",
    "# initializing list\n",
    "test_list = [{'Gfg' : [5, 6, 5]}, {'is' : [10, 2, 3]}, {'best' : [4, 3, 1]}] \n",
    "\n",
    "# printing original list\n",
    "print(\"The original list is : \" + str(test_list))\n",
    "\n",
    "# Convert Dictionary Value list to Dictionary List\n",
    "# Using loop\n",
    "res =[{} for idx in range(len(test_list))]\n",
    "idx = 0\n",
    "for sub in test_list:\n",
    "\tfor key, val in sub.items(): \n",
    "\t\tfor ele in val:\n",
    "\t\t\tres[idx][key] = ele\n",
    "\t\t\tidx += 1\n",
    "\t\tidx = 0\n",
    "\t\t\n",
    "# printing result \n",
    "print(\"Records after conversion : \" + str(res))\n"
   ]
  },
  {
   "cell_type": "code",
   "execution_count": null,
   "id": "8842e94d",
   "metadata": {},
   "outputs": [],
   "source": []
  }
 ],
 "metadata": {
  "kernelspec": {
   "display_name": "Python 3 (ipykernel)",
   "language": "python",
   "name": "python3"
  },
  "language_info": {
   "codemirror_mode": {
    "name": "ipython",
    "version": 3
   },
   "file_extension": ".py",
   "mimetype": "text/x-python",
   "name": "python",
   "nbconvert_exporter": "python",
   "pygments_lexer": "ipython3",
   "version": "3.9.12"
  }
 },
 "nbformat": 4,
 "nbformat_minor": 5
}
